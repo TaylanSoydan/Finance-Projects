{
  "nbformat": 4,
  "nbformat_minor": 0,
  "metadata": {
    "colab": {
      "name": "SENTIMENT_ANALYSIS.pynb",
      "provenance": [],
      "collapsed_sections": []
    },
    "kernelspec": {
      "name": "python3",
      "display_name": "Python 3"
    }
  },
  "cells": [
    {
      "cell_type": "code",
      "metadata": {
        "id": "W4A6IEAPv1jq"
      },
      "source": [
        "#SCRAPE"
      ],
      "execution_count": null,
      "outputs": []
    },
    {
      "cell_type": "code",
      "metadata": {
        "colab": {
          "base_uri": "https://localhost:8080/",
          "height": 576
        },
        "id": "3FueQSvWLNQT",
        "outputId": "b16d0c42-069d-4453-a10e-0a5523008b11"
      },
      "source": [
        "!pip3 install -U nltk[twitter] "
      ],
      "execution_count": null,
      "outputs": [
        {
          "output_type": "stream",
          "text": [
            "Collecting nltk[twitter]\n",
            "\u001b[?25l  Downloading https://files.pythonhosted.org/packages/92/75/ce35194d8e3022203cca0d2f896dbb88689f9b3fce8e9f9cff942913519d/nltk-3.5.zip (1.4MB)\n",
            "\u001b[K     |████████████████████████████████| 1.4MB 4.3MB/s \n",
            "\u001b[?25hRequirement already satisfied, skipping upgrade: click in /usr/local/lib/python3.6/dist-packages (from nltk[twitter]) (7.1.2)\n",
            "Requirement already satisfied, skipping upgrade: joblib in /usr/local/lib/python3.6/dist-packages (from nltk[twitter]) (1.0.0)\n",
            "Requirement already satisfied, skipping upgrade: regex in /usr/local/lib/python3.6/dist-packages (from nltk[twitter]) (2019.12.20)\n",
            "Requirement already satisfied, skipping upgrade: tqdm in /usr/local/lib/python3.6/dist-packages (from nltk[twitter]) (4.41.1)\n",
            "Collecting twython\n",
            "  Downloading https://files.pythonhosted.org/packages/24/80/579b96dfaa9b536efde883d4f0df7ea2598a6f3117a6dd572787f4a2bcfb/twython-3.8.2-py3-none-any.whl\n",
            "Requirement already satisfied, skipping upgrade: requests-oauthlib>=0.4.0 in /usr/local/lib/python3.6/dist-packages (from twython->nltk[twitter]) (1.3.0)\n",
            "Requirement already satisfied, skipping upgrade: requests>=2.1.0 in /usr/local/lib/python3.6/dist-packages (from twython->nltk[twitter]) (2.23.0)\n",
            "Requirement already satisfied, skipping upgrade: oauthlib>=3.0.0 in /usr/local/lib/python3.6/dist-packages (from requests-oauthlib>=0.4.0->twython->nltk[twitter]) (3.1.0)\n",
            "Requirement already satisfied, skipping upgrade: certifi>=2017.4.17 in /usr/local/lib/python3.6/dist-packages (from requests>=2.1.0->twython->nltk[twitter]) (2020.12.5)\n",
            "Requirement already satisfied, skipping upgrade: chardet<4,>=3.0.2 in /usr/local/lib/python3.6/dist-packages (from requests>=2.1.0->twython->nltk[twitter]) (3.0.4)\n",
            "Requirement already satisfied, skipping upgrade: idna<3,>=2.5 in /usr/local/lib/python3.6/dist-packages (from requests>=2.1.0->twython->nltk[twitter]) (2.10)\n",
            "Requirement already satisfied, skipping upgrade: urllib3!=1.25.0,!=1.25.1,<1.26,>=1.21.1 in /usr/local/lib/python3.6/dist-packages (from requests>=2.1.0->twython->nltk[twitter]) (1.24.3)\n",
            "Building wheels for collected packages: nltk\n",
            "  Building wheel for nltk (setup.py) ... \u001b[?25l\u001b[?25hdone\n",
            "  Created wheel for nltk: filename=nltk-3.5-cp36-none-any.whl size=1434678 sha256=48895bd8ae8abdfa4dec30db40435df555bc6e46ba5c1d271833eaf85f9e2e88\n",
            "  Stored in directory: /root/.cache/pip/wheels/ae/8c/3f/b1fe0ba04555b08b57ab52ab7f86023639a526d8bc8d384306\n",
            "Successfully built nltk\n",
            "Installing collected packages: twython, nltk\n",
            "  Found existing installation: nltk 3.2.5\n",
            "    Uninstalling nltk-3.2.5:\n",
            "      Successfully uninstalled nltk-3.2.5\n",
            "Successfully installed nltk-3.5 twython-3.8.2\n"
          ],
          "name": "stdout"
        },
        {
          "output_type": "display_data",
          "data": {
            "application/vnd.colab-display-data+json": {
              "pip_warning": {
                "packages": [
                  "nltk"
                ]
              }
            }
          },
          "metadata": {
            "tags": []
          }
        }
      ]
    },
    {
      "cell_type": "code",
      "metadata": {
        "colab": {
          "base_uri": "https://localhost:8080/"
        },
        "id": "SN_eHTB5JksH",
        "outputId": "3ea9e3f5-b7a8-4b2d-fdbd-56014b9ab5d3"
      },
      "source": [
        "import requests\n",
        "import csv\n",
        "import pandas as pd\n",
        "from bs4 import BeautifulSoup\n",
        "import os\n",
        "from datetime import datetime, timedelta\n",
        "\n",
        "import nltk\n",
        "nltk.download('vader_lexicon')"
      ],
      "execution_count": null,
      "outputs": [
        {
          "output_type": "stream",
          "text": [
            "[nltk_data] Downloading package vader_lexicon to /root/nltk_data...\n"
          ],
          "name": "stdout"
        },
        {
          "output_type": "execute_result",
          "data": {
            "text/plain": [
              "True"
            ]
          },
          "metadata": {
            "tags": []
          },
          "execution_count": 22
        }
      ]
    },
    {
      "cell_type": "code",
      "metadata": {
        "id": "LWhVX2OgJtZS"
      },
      "source": [
        "# Downloading today data from SGX using SGX API\n",
        "today = datetime.now()\n",
        "start_date = today-timedelta(1)\n",
        "start_date = start_date.strftime('%Y%m%d')# Format must be in: '20190808'\n",
        "end_date = today.strftime('%Y%m%d')\n",
        "default_folder = './data'\n",
        "\n",
        "# Start downloading data\n",
        "headers = {\"User-Agent\": \"Mozilla/5.0 (Windows NT 6.1; Win64; x64) AppleWebKit/537.36 (KHTML, like Gecko) Chrome/54.0.2840.71 Safari/537.36\"}\n",
        "url = f'https://api.sgx.com/announcements/v1.0/?periodstart={start_date}_160000&periodend={end_date}_155959&pagestart=0&pagesize=20'\n",
        "res = requests.get(url, headers)\n",
        "\n",
        "# Store the downloaded data into dataframe (for easier access later)\n",
        "json_data = res.json()['data']\n",
        "df = pd.DataFrame(json_data)\n",
        "\n",
        "# Assuming we are interested in the updates related to \"LODHA DEVELOPERS INTERNATIONAL LIMITED\"\n",
        "stock_name = 'LODHA DEVELOPERS INTERNATIONAL LIMITED'\n",
        "\n",
        "# Filtered out those unwanted company updates information\n",
        "df = df[df['issuer_name']==stock_name]"
      ],
      "execution_count": null,
      "outputs": []
    },
    {
      "cell_type": "code",
      "metadata": {
        "id": "SKsbd__4Kxeo"
      },
      "source": [
        "import pandas as pd\n",
        "from bs4 import BeautifulSoup\n",
        "import matplotlib.pyplot as plt\n",
        "from urllib.request import urlopen\n",
        "from urllib.request import Request\n",
        "from nltk.sentiment.vader import SentimentIntensityAnalyzer\n",
        "\n",
        "# Parameters \n",
        "n = 3 #the # of article headlines displayed per ticker\n",
        "tickers = ['AAPL', 'TSLA', 'AMZN']"
      ],
      "execution_count": null,
      "outputs": []
    },
    {
      "cell_type": "code",
      "metadata": {
        "colab": {
          "base_uri": "https://localhost:8080/"
        },
        "id": "TZSG2BKhLSMn",
        "outputId": "3b45bdcf-e365-4b18-9f5c-e1eca241ddcc"
      },
      "source": [
        "finviz_url = 'https://finviz.com/quote.ashx?t='\n",
        "news_tables = {}\n",
        "\n",
        "for ticker in tickers:\n",
        "    url = finviz_url + ticker\n",
        "    req = Request(url=url,headers={'user-agent': 'my-app/0.0.1'}) \n",
        "    resp = urlopen(req)    \n",
        "    html = BeautifulSoup(resp, features=\"lxml\")\n",
        "    news_table = html.find(id='news-table')\n",
        "    news_tables[ticker] = news_table\n",
        "\n",
        "try:\n",
        "    for ticker in tickers:\n",
        "        df = news_tables[ticker]\n",
        "        df_tr = df.findAll('tr')\n",
        "    \n",
        "        print ('\\n')\n",
        "        print ('Recent News Headlines for {}: '.format(ticker))\n",
        "        \n",
        "        for i, table_row in enumerate(df_tr):\n",
        "            a_text = table_row.a.text\n",
        "            td_text = table_row.td.text\n",
        "            td_text = td_text.strip()\n",
        "            print(a_text,'(',td_text,')')\n",
        "            if i == n-1:\n",
        "                break\n",
        "except KeyError:\n",
        "    pass"
      ],
      "execution_count": null,
      "outputs": [
        {
          "output_type": "stream",
          "text": [
            "\n",
            "\n",
            "Recent News Headlines for AAPL: \n",
            "Dow Jones Futures: President Trump Signs Stimulus Deal; Tesla On Cusp Of 'Historic Milestone' ( Dec-27-20 09:17PM )\n",
            "12 Best Autonomous Vehicle Stocks to Buy for 2021 ( 06:51PM )\n",
            "Dow Jones Futures Fall: As Stock Market Rally Pauses, Is Microsoft The Next Apple? Tesla On Cusp Of 'Historic Milestone' ( 06:19PM )\n",
            "\n",
            "\n",
            "Recent News Headlines for TSLA: \n",
            "Is Tesla the next AOL? Thats what this strategist is warning ( Dec-27-20 07:24PM )\n",
            "12 Best Autonomous Vehicle Stocks to Buy for 2021 ( 06:51PM )\n",
            "CNBC's Michael Farr Believes Tesla Stock Is 'Stupidly Expensive' ( 05:49PM )\n",
            "\n",
            "\n",
            "Recent News Headlines for AMZN: \n",
            "Barry Rosenstein and Jana Partners: Top 10 Stock Picks ( Dec-27-20 06:20PM )\n",
            "A Data-Driven End to Capitalism as We Know It ( 06:00PM )\n",
            "7 Bold Predictions for Tech Stocks in 2021 ( 08:45AM )\n"
          ],
          "name": "stdout"
        }
      ]
    },
    {
      "cell_type": "code",
      "metadata": {
        "id": "VVTpr9s6LocU"
      },
      "source": [
        "parsed_news = []\n",
        "for file_name, news_table in news_tables.items():\n",
        "    for x in news_table.findAll('tr'):\n",
        "        text = x.a.get_text() \n",
        "        date_scrape = x.td.text.split()\n",
        "\n",
        "        if len(date_scrape) == 1:\n",
        "            time = date_scrape[0]\n",
        "            \n",
        "        else:\n",
        "            date = date_scrape[0]\n",
        "            time = date_scrape[1]\n",
        "\n",
        "        ticker = file_name.split('_')[0]\n",
        "        \n",
        "        parsed_news.append([ticker, date, time, text])"
      ],
      "execution_count": null,
      "outputs": []
    },
    {
      "cell_type": "code",
      "metadata": {
        "id": "L40lNPTCL3wY"
      },
      "source": [
        "analyzer = SentimentIntensityAnalyzer()\n",
        "\n",
        "columns = ['Ticker', 'Date', 'Time', 'Headline']\n",
        "news = pd.DataFrame(parsed_news, columns=columns)\n",
        "scores = news['Headline'].apply(analyzer.polarity_scores).tolist()\n",
        "\n",
        "df_scores = pd.DataFrame(scores)\n",
        "news = news.join(df_scores, rsuffix='_right')"
      ],
      "execution_count": null,
      "outputs": []
    },
    {
      "cell_type": "code",
      "metadata": {
        "colab": {
          "base_uri": "https://localhost:8080/"
        },
        "id": "Eu4dxgiOL6E8",
        "outputId": "4ac2ab12-f543-480c-a977-c973331cbcc8"
      },
      "source": [
        "news['Date'] = pd.to_datetime(news.Date).dt.date\n",
        "\n",
        "unique_ticker = news['Ticker'].unique().tolist()\n",
        "news_dict = {name: news.loc[news['Ticker'] == name] for name in unique_ticker}\n",
        "\n",
        "values = []\n",
        "for ticker in tickers: \n",
        "    dataframe = news_dict[ticker]\n",
        "    dataframe = dataframe.set_index('Ticker')\n",
        "    dataframe = dataframe.drop(columns = ['Headline'])\n",
        "    print ('\\n')\n",
        "    print (dataframe.head())\n",
        "    \n",
        "    mean = round(dataframe['compound'].mean(), 2)\n",
        "    values.append(mean)\n",
        "    \n",
        "df = pd.DataFrame(list(zip(tickers, values)), columns =['Ticker', 'Mean Sentiment']) \n",
        "df = df.set_index('Ticker')\n",
        "df = df.sort_values('Mean Sentiment', ascending=False)"
      ],
      "execution_count": null,
      "outputs": [
        {
          "output_type": "stream",
          "text": [
            "\n",
            "\n",
            "              Date     Time  neg    neu    pos  compound\n",
            "Ticker                                                  \n",
            "AAPL    2020-12-27  09:17PM  0.0  1.000  0.000    0.0000\n",
            "AAPL    2020-12-27  06:51PM  0.0  0.656  0.344    0.6369\n",
            "AAPL    2020-12-27  06:19PM  0.0  1.000  0.000    0.0000\n",
            "AAPL    2020-12-27  06:00PM  0.0  1.000  0.000    0.0000\n",
            "AAPL    2020-12-27  03:02PM  0.0  1.000  0.000    0.0000\n",
            "\n",
            "\n",
            "              Date     Time    neg    neu    pos  compound\n",
            "Ticker                                                    \n",
            "TSLA    2020-12-27  07:24PM  0.194  0.806  0.000   -0.3400\n",
            "TSLA    2020-12-27  06:51PM  0.000  0.656  0.344    0.6369\n",
            "TSLA    2020-12-27  05:49PM  0.273  0.727  0.000   -0.4588\n",
            "TSLA    2020-12-27  11:38AM  0.260  0.740  0.000   -0.3535\n",
            "TSLA    2020-12-27  09:09AM  0.171  0.650  0.179    0.0258\n",
            "\n",
            "\n",
            "              Date     Time  neg    neu    pos  compound\n",
            "Ticker                                                  \n",
            "AMZN    2020-12-27  06:20PM  0.0  0.816  0.184    0.2023\n",
            "AMZN    2020-12-27  06:00PM  0.0  1.000  0.000    0.0000\n",
            "AMZN    2020-12-27  08:45AM  0.0  0.698  0.302    0.3818\n",
            "AMZN    2020-12-27  07:12AM  0.0  1.000  0.000    0.0000\n",
            "AMZN    2020-12-27  06:25AM  0.0  1.000  0.000    0.0000\n"
          ],
          "name": "stdout"
        }
      ]
    },
    {
      "cell_type": "code",
      "metadata": {
        "colab": {
          "base_uri": "https://localhost:8080/",
          "height": 173
        },
        "id": "zn-OvwDNMNkD",
        "outputId": "04886f40-4e72-457b-e68b-7a550a0e2be9"
      },
      "source": [
        "df"
      ],
      "execution_count": null,
      "outputs": [
        {
          "output_type": "execute_result",
          "data": {
            "text/html": [
              "<div>\n",
              "<style scoped>\n",
              "    .dataframe tbody tr th:only-of-type {\n",
              "        vertical-align: middle;\n",
              "    }\n",
              "\n",
              "    .dataframe tbody tr th {\n",
              "        vertical-align: top;\n",
              "    }\n",
              "\n",
              "    .dataframe thead th {\n",
              "        text-align: right;\n",
              "    }\n",
              "</style>\n",
              "<table border=\"1\" class=\"dataframe\">\n",
              "  <thead>\n",
              "    <tr style=\"text-align: right;\">\n",
              "      <th></th>\n",
              "      <th>Mean Sentiment</th>\n",
              "    </tr>\n",
              "    <tr>\n",
              "      <th>Ticker</th>\n",
              "      <th></th>\n",
              "    </tr>\n",
              "  </thead>\n",
              "  <tbody>\n",
              "    <tr>\n",
              "      <th>AMZN</th>\n",
              "      <td>0.16</td>\n",
              "    </tr>\n",
              "    <tr>\n",
              "      <th>AAPL</th>\n",
              "      <td>0.08</td>\n",
              "    </tr>\n",
              "    <tr>\n",
              "      <th>TSLA</th>\n",
              "      <td>0.03</td>\n",
              "    </tr>\n",
              "  </tbody>\n",
              "</table>\n",
              "</div>"
            ],
            "text/plain": [
              "        Mean Sentiment\n",
              "Ticker                \n",
              "AMZN              0.16\n",
              "AAPL              0.08\n",
              "TSLA              0.03"
            ]
          },
          "metadata": {
            "tags": []
          },
          "execution_count": 26
        }
      ]
    },
    {
      "cell_type": "code",
      "metadata": {
        "colab": {
          "base_uri": "https://localhost:8080/",
          "height": 450
        },
        "id": "uMHl901jMSMu",
        "outputId": "6fcda5a8-cc24-4d74-f4f2-bcf2f16bb9d2"
      },
      "source": [
        "dataframe"
      ],
      "execution_count": null,
      "outputs": [
        {
          "output_type": "execute_result",
          "data": {
            "text/html": [
              "<div>\n",
              "<style scoped>\n",
              "    .dataframe tbody tr th:only-of-type {\n",
              "        vertical-align: middle;\n",
              "    }\n",
              "\n",
              "    .dataframe tbody tr th {\n",
              "        vertical-align: top;\n",
              "    }\n",
              "\n",
              "    .dataframe thead th {\n",
              "        text-align: right;\n",
              "    }\n",
              "</style>\n",
              "<table border=\"1\" class=\"dataframe\">\n",
              "  <thead>\n",
              "    <tr style=\"text-align: right;\">\n",
              "      <th></th>\n",
              "      <th>Date</th>\n",
              "      <th>Time</th>\n",
              "      <th>neg</th>\n",
              "      <th>neu</th>\n",
              "      <th>pos</th>\n",
              "      <th>compound</th>\n",
              "    </tr>\n",
              "    <tr>\n",
              "      <th>Ticker</th>\n",
              "      <th></th>\n",
              "      <th></th>\n",
              "      <th></th>\n",
              "      <th></th>\n",
              "      <th></th>\n",
              "      <th></th>\n",
              "    </tr>\n",
              "  </thead>\n",
              "  <tbody>\n",
              "    <tr>\n",
              "      <th>AMZN</th>\n",
              "      <td>2020-12-27</td>\n",
              "      <td>06:20PM</td>\n",
              "      <td>0.000</td>\n",
              "      <td>0.816</td>\n",
              "      <td>0.184</td>\n",
              "      <td>0.2023</td>\n",
              "    </tr>\n",
              "    <tr>\n",
              "      <th>AMZN</th>\n",
              "      <td>2020-12-27</td>\n",
              "      <td>06:00PM</td>\n",
              "      <td>0.000</td>\n",
              "      <td>1.000</td>\n",
              "      <td>0.000</td>\n",
              "      <td>0.0000</td>\n",
              "    </tr>\n",
              "    <tr>\n",
              "      <th>AMZN</th>\n",
              "      <td>2020-12-27</td>\n",
              "      <td>08:45AM</td>\n",
              "      <td>0.000</td>\n",
              "      <td>0.698</td>\n",
              "      <td>0.302</td>\n",
              "      <td>0.3818</td>\n",
              "    </tr>\n",
              "    <tr>\n",
              "      <th>AMZN</th>\n",
              "      <td>2020-12-27</td>\n",
              "      <td>07:12AM</td>\n",
              "      <td>0.000</td>\n",
              "      <td>1.000</td>\n",
              "      <td>0.000</td>\n",
              "      <td>0.0000</td>\n",
              "    </tr>\n",
              "    <tr>\n",
              "      <th>AMZN</th>\n",
              "      <td>2020-12-27</td>\n",
              "      <td>06:25AM</td>\n",
              "      <td>0.000</td>\n",
              "      <td>1.000</td>\n",
              "      <td>0.000</td>\n",
              "      <td>0.0000</td>\n",
              "    </tr>\n",
              "    <tr>\n",
              "      <th>...</th>\n",
              "      <td>...</td>\n",
              "      <td>...</td>\n",
              "      <td>...</td>\n",
              "      <td>...</td>\n",
              "      <td>...</td>\n",
              "      <td>...</td>\n",
              "    </tr>\n",
              "    <tr>\n",
              "      <th>AMZN</th>\n",
              "      <td>2020-12-22</td>\n",
              "      <td>03:53AM</td>\n",
              "      <td>0.000</td>\n",
              "      <td>1.000</td>\n",
              "      <td>0.000</td>\n",
              "      <td>0.0000</td>\n",
              "    </tr>\n",
              "    <tr>\n",
              "      <th>AMZN</th>\n",
              "      <td>2020-12-21</td>\n",
              "      <td>07:00PM</td>\n",
              "      <td>0.000</td>\n",
              "      <td>0.635</td>\n",
              "      <td>0.365</td>\n",
              "      <td>0.5574</td>\n",
              "    </tr>\n",
              "    <tr>\n",
              "      <th>AMZN</th>\n",
              "      <td>2020-12-21</td>\n",
              "      <td>05:29PM</td>\n",
              "      <td>0.000</td>\n",
              "      <td>1.000</td>\n",
              "      <td>0.000</td>\n",
              "      <td>0.0000</td>\n",
              "    </tr>\n",
              "    <tr>\n",
              "      <th>AMZN</th>\n",
              "      <td>2020-12-21</td>\n",
              "      <td>05:00PM</td>\n",
              "      <td>0.000</td>\n",
              "      <td>0.792</td>\n",
              "      <td>0.208</td>\n",
              "      <td>0.2732</td>\n",
              "    </tr>\n",
              "    <tr>\n",
              "      <th>AMZN</th>\n",
              "      <td>2020-12-21</td>\n",
              "      <td>04:28PM</td>\n",
              "      <td>0.208</td>\n",
              "      <td>0.792</td>\n",
              "      <td>0.000</td>\n",
              "      <td>-0.2732</td>\n",
              "    </tr>\n",
              "  </tbody>\n",
              "</table>\n",
              "<p>100 rows × 6 columns</p>\n",
              "</div>"
            ],
            "text/plain": [
              "              Date     Time    neg    neu    pos  compound\n",
              "Ticker                                                    \n",
              "AMZN    2020-12-27  06:20PM  0.000  0.816  0.184    0.2023\n",
              "AMZN    2020-12-27  06:00PM  0.000  1.000  0.000    0.0000\n",
              "AMZN    2020-12-27  08:45AM  0.000  0.698  0.302    0.3818\n",
              "AMZN    2020-12-27  07:12AM  0.000  1.000  0.000    0.0000\n",
              "AMZN    2020-12-27  06:25AM  0.000  1.000  0.000    0.0000\n",
              "...            ...      ...    ...    ...    ...       ...\n",
              "AMZN    2020-12-22  03:53AM  0.000  1.000  0.000    0.0000\n",
              "AMZN    2020-12-21  07:00PM  0.000  0.635  0.365    0.5574\n",
              "AMZN    2020-12-21  05:29PM  0.000  1.000  0.000    0.0000\n",
              "AMZN    2020-12-21  05:00PM  0.000  0.792  0.208    0.2732\n",
              "AMZN    2020-12-21  04:28PM  0.208  0.792  0.000   -0.2732\n",
              "\n",
              "[100 rows x 6 columns]"
            ]
          },
          "metadata": {
            "tags": []
          },
          "execution_count": 27
        }
      ]
    },
    {
      "cell_type": "code",
      "metadata": {
        "colab": {
          "base_uri": "https://localhost:8080/"
        },
        "id": "9kzonbP5MaQu",
        "outputId": "ad77e1b6-fc17-49df-893e-4080bdabd12e"
      },
      "source": [
        "# Parameters \n",
        "n = 3 #the # of article headlines displayed per ticker\n",
        "tickers = ['AAPL', 'TSLA', 'AMZN']\n",
        "\n",
        "# Get Data\n",
        "finwiz_url = 'https://finviz.com/quote.ashx?t='\n",
        "news_tables = {}\n",
        "\n",
        "for ticker in tickers:\n",
        "    url = finwiz_url + ticker\n",
        "    req = Request(url=url,headers={'user-agent': 'my-app/0.0.1'}) \n",
        "    resp = urlopen(req)    \n",
        "    html = BeautifulSoup(resp, features=\"lxml\")\n",
        "    news_table = html.find(id='news-table')\n",
        "    news_tables[ticker] = news_table\n",
        "\n",
        "try:\n",
        "    for ticker in tickers:\n",
        "        df = news_tables[ticker]\n",
        "        df_tr = df.findAll('tr')\n",
        "    \n",
        "        print ('\\n')\n",
        "        print ('Recent News Headlines for {}: '.format(ticker))\n",
        "        \n",
        "        for i, table_row in enumerate(df_tr):\n",
        "            a_text = table_row.a.text\n",
        "            td_text = table_row.td.text\n",
        "            td_text = td_text.strip()\n",
        "            print(a_text,'(',td_text,')')\n",
        "            if i == n-1:\n",
        "                break\n",
        "except KeyError:\n",
        "    pass\n",
        "\n",
        "# Iterate through the news\n",
        "parsed_news = []\n",
        "for file_name, news_table in news_tables.items():\n",
        "    for x in news_table.findAll('tr'):\n",
        "        text = x.a.get_text() \n",
        "        date_scrape = x.td.text.split()\n",
        "\n",
        "        if len(date_scrape) == 1:\n",
        "            time = date_scrape[0]\n",
        "            \n",
        "        else:\n",
        "            date = date_scrape[0]\n",
        "            time = date_scrape[1]\n",
        "\n",
        "        ticker = file_name.split('_')[0]\n",
        "        \n",
        "        parsed_news.append([ticker, date, time, text])\n",
        "        \n",
        "# Sentiment Analysis\n",
        "analyzer = SentimentIntensityAnalyzer()\n",
        "\n",
        "columns = ['Ticker', 'Date', 'Time', 'Headline']\n",
        "news = pd.DataFrame(parsed_news, columns=columns)\n",
        "scores = news['Headline'].apply(analyzer.polarity_scores).tolist()\n",
        "\n",
        "df_scores = pd.DataFrame(scores)\n",
        "news = news.join(df_scores, rsuffix='_right')\n",
        "\n",
        "\n",
        "# View Data \n",
        "news['Date'] = pd.to_datetime(news.Date).dt.date\n",
        "\n",
        "unique_ticker = news['Ticker'].unique().tolist()\n",
        "news_dict = {name: news.loc[news['Ticker'] == name] for name in unique_ticker}\n",
        "\n",
        "values = []\n",
        "for ticker in tickers: \n",
        "    dataframe = news_dict[ticker]\n",
        "    dataframe = dataframe.set_index('Ticker')\n",
        "    dataframe = dataframe.drop(columns = ['Headline'])\n",
        "    print ('\\n')\n",
        "    print (dataframe.head())\n",
        "    \n",
        "    mean = round(dataframe['compound'].mean(), 2)\n",
        "    values.append(mean)\n",
        "    \n",
        "df = pd.DataFrame(list(zip(tickers, values)), columns =['Ticker', 'Mean Sentiment']) \n",
        "df = df.set_index('Ticker')\n",
        "df = df.sort_values('Mean Sentiment', ascending=False)\n",
        "print ('\\n')\n",
        "print (df)"
      ],
      "execution_count": null,
      "outputs": [
        {
          "output_type": "stream",
          "text": [
            "\n",
            "\n",
            "Recent News Headlines for AAPL: \n",
            "Dow Jones Futures: President Trump Signs Stimulus Deal; Tesla On Cusp Of 'Historic Milestone' ( Dec-27-20 09:27PM )\n",
            "12 Best Autonomous Vehicle Stocks to Buy for 2021 ( 06:51PM )\n",
            "Dow Jones Futures Fall: As Stock Market Rally Pauses, Is Microsoft The Next Apple? Tesla On Cusp Of 'Historic Milestone' ( 06:19PM )\n",
            "\n",
            "\n",
            "Recent News Headlines for TSLA: \n",
            "Is Tesla the next AOL? Thats what this strategist is warning ( Dec-27-20 07:24PM )\n",
            "12 Best Autonomous Vehicle Stocks to Buy for 2021 ( 06:51PM )\n",
            "CNBC's Michael Farr Believes Tesla Stock Is 'Stupidly Expensive' ( 05:49PM )\n",
            "\n",
            "\n",
            "Recent News Headlines for AMZN: \n",
            "Barry Rosenstein and Jana Partners: Top 10 Stock Picks ( Dec-27-20 06:20PM )\n",
            "A Data-Driven End to Capitalism as We Know It ( 06:00PM )\n",
            "7 Bold Predictions for Tech Stocks in 2021 ( 08:45AM )\n",
            "\n",
            "\n",
            "              Date     Time  neg    neu    pos  compound\n",
            "Ticker                                                  \n",
            "AAPL    2020-12-27  09:27PM  0.0  1.000  0.000    0.0000\n",
            "AAPL    2020-12-27  06:51PM  0.0  0.656  0.344    0.6369\n",
            "AAPL    2020-12-27  06:19PM  0.0  1.000  0.000    0.0000\n",
            "AAPL    2020-12-27  06:00PM  0.0  1.000  0.000    0.0000\n",
            "AAPL    2020-12-27  03:02PM  0.0  1.000  0.000    0.0000\n",
            "\n",
            "\n",
            "              Date     Time    neg    neu    pos  compound\n",
            "Ticker                                                    \n",
            "TSLA    2020-12-27  07:24PM  0.194  0.806  0.000   -0.3400\n",
            "TSLA    2020-12-27  06:51PM  0.000  0.656  0.344    0.6369\n",
            "TSLA    2020-12-27  05:49PM  0.273  0.727  0.000   -0.4588\n",
            "TSLA    2020-12-27  11:38AM  0.260  0.740  0.000   -0.3535\n",
            "TSLA    2020-12-27  09:09AM  0.171  0.650  0.179    0.0258\n",
            "\n",
            "\n",
            "              Date     Time  neg    neu    pos  compound\n",
            "Ticker                                                  \n",
            "AMZN    2020-12-27  06:20PM  0.0  0.816  0.184    0.2023\n",
            "AMZN    2020-12-27  06:00PM  0.0  1.000  0.000    0.0000\n",
            "AMZN    2020-12-27  08:45AM  0.0  0.698  0.302    0.3818\n",
            "AMZN    2020-12-27  07:12AM  0.0  1.000  0.000    0.0000\n",
            "AMZN    2020-12-27  06:25AM  0.0  1.000  0.000    0.0000\n",
            "\n",
            "\n",
            "        Mean Sentiment\n",
            "Ticker                \n",
            "AMZN              0.16\n",
            "AAPL              0.08\n",
            "TSLA              0.03\n"
          ],
          "name": "stdout"
        }
      ]
    },
    {
      "cell_type": "code",
      "metadata": {
        "id": "pkGGWIwEMkt6"
      },
      "source": [
        ""
      ],
      "execution_count": null,
      "outputs": []
    }
  ]
}